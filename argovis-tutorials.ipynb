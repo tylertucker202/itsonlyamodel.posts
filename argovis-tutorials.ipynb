{
 "cells": [
  {
   "cell_type": "markdown",
   "metadata": {},
   "source": [
    "# Argovis Data Visualization and Extraction Tutorials\n",
    "\n",
    "Tutorials describe several website use cases step by step and offers the user a break from reading. The [first tutorial](#first_tutorial) narrates a typical use case on how a user can make a custom selection around the Labrador sea at 500-1000 meters during Summer 2017, and download the data and its metadata table locally. The [second tutorial](#second_tutorial) has a user track a particular profile over time, view its profiles, examine unusually cold sea surface temperatures, and download a profile directly from the IFREMER GDAC. More data selection and delivery methods are available using the API, covered in Section~\\ref{sec:api}. \\url{www.itsonlyamodel.us} has more tutorials.\n",
    "\n",
    "<a name=\"first_tutorial\"/> </a>\n",
    "## Labrador Sea Summer Selection\n",
    "\n",
    "This tutorial describes how to make selections on the main page. First, a shape is drawn, followed by a date pressure range. The profiles are viewed and downloaded on a separate page.\n",
    "\n",
    "1. Visit [www.argovis.com](www.argovis.com). You will be greeted by a Web Mercator projection showing profiles reported by the DACS from the past seven days. Sidebar includes a map reset button, which will return the map to its original state. The clear map button will swipes all profile icons off the map.\n",
    "\n",
    "    ![alt text](./images/argo-tutorial/resetClearButtons.png)\n",
    "\n",
    "2. Zoom into the Labrador sea, east of Greenland. You can zoom in by using the mouse wheel or by clicking the zoom button on the top left corner of the map\n",
    "\n",
    "    ![alt text](./images/argo-tutorial/mapDraw.png)\n",
    "\n",
    "3. Click the polygon button, located below the zoom buttons and map tile layers on the top left corner of the map.\n",
    "\n",
    "4. Create a polygon by clicking on the region around the general outline of the Labrador Sea. Circle the polygon nodes back to the point of origin to complete the shape. Upon completion, profiles will only show within the polygon, and a popup will appear, as shown below. With the shape selected, we next need to specify a date and pressure range.\n",
    "\n",
    "    ![alt text](./images/argo-tutorial/labSeaMap.png)\n",
    "\n",
    "5. Click on the date input element located on the sidebar. A date range window will appear comprised of three columns. The left column is an array of buttons with relative times that users can select. The center and right columns display an interactive scrollable calendar that allows for date selections.\n",
    "\n",
    "    ![alt text](./images/argo-tutorial/calender.png)\n",
    "\n",
    "6. Create a polygon by clicking on the region around the general outline of the Labrador Sea. Circle the polygon nodes back to the point of origin to complete the shape. Upon completion, profiles will only show within the polygon, and a popup will appear. With the shape selected, we next need to specify a date and pressure range.\n",
    "\n",
    "    ![alt text](./images/argo-tutorial/presBar.png)\n",
    "\n",
    "7. Open the selection page by clicking on the shape popup button labeled \"To selection page with pressure query. This page can be viewed [here](http://www.argovis.com/selection/profiles/page?presRange=[500,1000]&startDate=2017-06-01&endDate=2017-09-02&shape=[[[-54.8291,53.696706],[-56.674803,54.572062],[-59.487303,55.229023],[-60.717772,56.511018],[-62.036131,58.401712],[-63.090819,59.534318],[-63.090819,60.413852],[-61.508787,61.312452],[-60.190428,62.144976],[-58.959959,63.114638],[-57.465819,63.821288],[-56.32324,63.821288],[-54.91699,63.391522],[-52.631834,63.194018],[-50.961912,62.794935],[-49.995115,61.731526],[-49.116209,60.930432],[-47.79785,60.457218],[-46.040037,59.756395],[-44.194334,59.445075],[-42.436522,59.265881],[-40.942381,58.309489],[-40.502928,56.897004],[-41.381834,55.776573],[-42.788084,55.028022],[-45.07324,53.748711],[-47.270506,53.383328],[-49.731444,53.383328],[-52.192381,53.173119],[-54.8291,53.696706]]])\n",
    "\n",
    "    ![alt text](./images/argo-tutorial/labSelPage.png)\n",
    "\n",
    "    The T/S/P plots showing selection data is instantly available for view. Each color represents a single profile. Hovering the cursor shows the detail. Clicking on while the cursor is hovering over a profile will open the page for that particular profile. \n",
    "\n",
    "8. Download the raw data by clicking on the \"Download Data\" button. A new tab on the browser will open, showing the data in a JSON format.\n",
    "\n",
    "9. Download the table of profile Metadata as a .csv file by clicking on the \"Download as csv\" button. Excel spreadsheet or text format is also available.\n",
    "\n",
    "    You should now have as much data as the database for this section locally. "
   ]
  },
  {
   "cell_type": "markdown",
   "metadata": {},
   "source": [
    "<a name=\"first_tutorial\"/> </a>\n",
    "## Track a single platform in the Southern Ocean\n",
    "\n",
    "This tutorial shows Argovis's ability for a user to track a particular profile over time, view its profiles, examine unusually cold sea surface temperatures, and download a profile directly from the IFREMER GDAC.\n",
    "\n",
    "1. Visit [www.argovis.com](www.argovis.com). You are greeted by a Web Mercator projection showing profiles reported by the DACS from the past seven days.\n",
    "\n",
    "2. Click the \"Southern Polar Stereo Projection\" button that redirects you to a new page with a map that uses a Southern polar stereographic projection.\n",
    "\n",
    "    ![alt text](./images/argo-tutorial/southSeaMap.png)\n",
    "\n",
    "3. Clear the map by clicking the \"Clear Map\" button located the sidebar.\n",
    "\n",
    "4. Enter the WMO/platform number 1901386 in the \"Search by platform number\" textbox. The profiles generated by this platform will be displayed circling Antartica.\n",
    "\n",
    "    ![alt text](./images/argo-tutorial/searchByPlatform.png)\n",
    "\n",
    "    ![alt text](./images/argo-tutorial/profTrackingSouthSter.png)\n",
    "\n",
    "5. Click on any orange point to bring up a profile popup window. Click the \"To platform page\" link to open up the page in another browser tab. The page resides [here](http://www.argovis.com/catalog/platforms/1901386/page).\n",
    "\n",
    "    ![alt text](./images/argo-tutorial/colorPlots.png)\n",
    "\n",
    "    Color plot of shows temperature going unusually low at the surface. Negative temperatures may be an error and will be investigated as an exercise.\n",
    "\n",
    "6. Click on the dark purple region in the upper right corner of temperature color plot. In this case. A new browser tab will open, showing the profile page you just clicked. In this example, profile 1901386_281 was selected and is shown below. This page resides at [here](http://www.argovis.com/catalog/profiles/1901386_281/page).\n",
    "\n",
    "    ![alt text](./images/argo-tutorial/profPage.png)\n",
    "\n",
    "     The date this profile surfaced was on November 3rd, 2017. Ice sheets melt, making the surface temperatures cold and brackish. Salinity is around 34 PSU. The profile location is close to the Antartic peninsula, indicating that the ice sheets connected to the land are relatively close. Most likely, this data is accurate. As it turns out, sea temperatures freeze at about -2 Celsius. To make sure that the reported data matches the original netCDF file reported in the GDAC the profile page includes a link that will download the netCDF file when clicked. \n",
    "\n",
    "7. Click on the link [ftp://ftp.ifremer.fr/ifremer/argo/dac/aoml/1901386/profiles/R1901386_281.nc[(ftp://ftp.ifremer.fr/ifremer/argo/dac/aoml/1901386/profiles/R1901386_281.nc) to download this profile data directly from the ifremer GDAC. You now have the original data opened with software compatible with netCDF files to compare to the unusually low sea surface temperatures. \n"
   ]
  },
  {
   "cell_type": "markdown",
   "metadata": {},
   "source": [
    "## Value added educational tool: Argovis video tutorials\n",
    "\n",
    "Video tutorials are included [here](https://www.youtube.com/playlist?list=PLJQE6R74BkyVV3PeTRdGh-W5llAY4XJ8v). The videos guide users through a series of Argovis's features. The advantage of videos over paper tutorials is that users can view, pause, and rewind videos. Youtube also broadcasts the videos over their website, increasing the odds of new users stumbling upon the app. Youtube videos also provide feedback input. The user community can voice support, frustrations and requests in the comments.\n",
    "\n",
    "[![IMAGE ALT TEXT HERE](http://img.youtube.com/vi/IlNJ0owuTHM&t/0.jpg)](https://www.youtube.com/watch?v=IlNJ0owuTHM&t)\n"
   ]
  },
  {
   "cell_type": "markdown",
   "metadata": {},
   "source": [
    "# Conclusion\n",
    "\n",
    "This website is still relatively new. Feel free to comment, on my [Youtube](https://www.youtube.com/channel/UCYx9zNeG7VL1bzBz1kOJUIA) channel for feedback. I just may implement any features or requests that you may want. Thanks for tuning in."
   ]
  }
 ],
 "metadata": {
  "kernelspec": {
   "display_name": "Python 3",
   "language": "python",
   "name": "python3"
  },
  "language_info": {
   "codemirror_mode": {
    "name": "ipython",
    "version": 3
   },
   "file_extension": ".py",
   "mimetype": "text/x-python",
   "name": "python",
   "nbconvert_exporter": "python",
   "pygments_lexer": "ipython3",
   "version": "3.6.1"
  }
 },
 "nbformat": 4,
 "nbformat_minor": 2
}
