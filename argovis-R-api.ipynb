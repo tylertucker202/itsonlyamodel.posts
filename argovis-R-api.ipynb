{
 "cells": [
  {
   "cell_type": "markdown",
   "metadata": {},
   "source": [
    "# R API to www.argovis.com\n",
    "\n",
    "Mentioned in [this](https://www.itsonlyamodel.us/argovis-python-api.html) blog post, [Argovis](https://argovis.colorado.edu) has an API that can send JSON data of Argo profiles, platforms and selections, and their metadata. This post will again retrieve Argodata, but this time in an R environment.  \n",
    "\n",
    "This script will guide an R user to:\n",
    "\n",
    "[1. Query a specific profile its id, designated by its platform (WMO) number with its cycle number, connected by an underscore. For example '3900737_9'](#section_one)\n",
    "\n",
    "[2. Query a specified platform by number. Example '3900737'.](#section_two)\n",
    "\n",
    "[3 Query profiles within a given shape, date range, and pressure range.](#section_three)\n",
    "\n",
    "[4 Query profiles metadata within a month and year.](#section_four)"
   ]
  },
  {
   "cell_type": "markdown",
   "metadata": {},
   "source": [
    "<a name=\"section_one\"/> </a>\n",
    "# 1. Get A Profile"
   ]
  },
  {
   "cell_type": "code",
   "execution_count": 1,
   "metadata": {},
   "outputs": [],
   "source": [
    "library(httr)\n",
    "options(warn=-1)"
   ]
  },
  {
   "cell_type": "code",
   "execution_count": 2,
   "metadata": {},
   "outputs": [],
   "source": [
    "get.profile <- function(profileName){\n",
    "  baseURL <- \"https://argovis.colorado.edu/catalog/profiles/\"\n",
    "  url <- paste(baseURL, profileName, sep=\"\")\n",
    "  resp <- GET(url)\n",
    "  if(resp$status_code==200) {\n",
    "    profile = content(resp, \"parsed\")\n",
    "  }\n",
    "  else {\n",
    "    profile = profile = content(resp, \"raw\")\n",
    "  }\n",
    "  return(profile)\n",
    "}\n",
    "\n",
    "parse.into.df <- function(profile) {\n",
    "    paramNames <- names(profile)\n",
    "    meas <- profile$measurements\n",
    "    names = unique(names(unlist(meas)))\n",
    "    df <- data.frame(matrix(unlist(meas), nrow=length(meas), byrow=T))\n",
    "    colnames(df) <- names\n",
    "    df$profile_id <- profile$`_id`\n",
    "    df$date <- profile$date\n",
    "    df$cycle_number <- profile$cycle_number\n",
    "    df$lat <- profile$lat\n",
    "    df$lon <- profile$lon\n",
    "    return (df)\n",
    "}"
   ]
  },
  {
   "cell_type": "code",
   "execution_count": 3,
   "metadata": {},
   "outputs": [],
   "source": [
    "profileName = \"3900737_279\"\n",
    "profile = get.profile(profileName)\n",
    "df = parse.into.df(profile)"
   ]
  },
  {
   "cell_type": "code",
   "execution_count": 4,
   "metadata": {},
   "outputs": [
    {
     "data": {
      "text/html": [
       "<table>\n",
       "<thead><tr><th scope=col>temp</th><th scope=col>psal</th><th scope=col>pres</th><th scope=col>profile_id</th><th scope=col>date</th><th scope=col>cycle_number</th><th scope=col>lat</th><th scope=col>lon</th></tr></thead>\n",
       "<tbody>\n",
       "\t<tr><td>27.165                  </td><td>35.421                  </td><td> 4.4                    </td><td>3900737_279             </td><td>2017-09-12T23:18:42.002Z</td><td>279                     </td><td>-4.363                  </td><td>-150.066                </td></tr>\n",
       "\t<tr><td>27.063                  </td><td>35.421                  </td><td>10.0                    </td><td>3900737_279             </td><td>2017-09-12T23:18:42.002Z</td><td>279                     </td><td>-4.363                  </td><td>-150.066                </td></tr>\n",
       "\t<tr><td>27.055                  </td><td>35.422                  </td><td>16.9                    </td><td>3900737_279             </td><td>2017-09-12T23:18:42.002Z</td><td>279                     </td><td>-4.363                  </td><td>-150.066                </td></tr>\n",
       "\t<tr><td>27.048                  </td><td>35.422                  </td><td>23.7                    </td><td>3900737_279             </td><td>2017-09-12T23:18:42.002Z</td><td>279                     </td><td>-4.363                  </td><td>-150.066                </td></tr>\n",
       "\t<tr><td>27.046                  </td><td>35.421                  </td><td>30.9                    </td><td>3900737_279             </td><td>2017-09-12T23:18:42.002Z</td><td>279                     </td><td>-4.363                  </td><td>-150.066                </td></tr>\n",
       "\t<tr><td>27.043                  </td><td>35.421                  </td><td>37.5                    </td><td>3900737_279             </td><td>2017-09-12T23:18:42.002Z</td><td>279                     </td><td>-4.363                  </td><td>-150.066                </td></tr>\n",
       "</tbody>\n",
       "</table>\n"
      ],
      "text/latex": [
       "\\begin{tabular}{r|llllllll}\n",
       " temp & psal & pres & profile\\_id & date & cycle\\_number & lat & lon\\\\\n",
       "\\hline\n",
       "\t 27.165                   & 35.421                   &  4.4                     & 3900737\\_279            & 2017-09-12T23:18:42.002Z & 279                      & -4.363                   & -150.066                \\\\\n",
       "\t 27.063                   & 35.421                   & 10.0                     & 3900737\\_279            & 2017-09-12T23:18:42.002Z & 279                      & -4.363                   & -150.066                \\\\\n",
       "\t 27.055                   & 35.422                   & 16.9                     & 3900737\\_279            & 2017-09-12T23:18:42.002Z & 279                      & -4.363                   & -150.066                \\\\\n",
       "\t 27.048                   & 35.422                   & 23.7                     & 3900737\\_279            & 2017-09-12T23:18:42.002Z & 279                      & -4.363                   & -150.066                \\\\\n",
       "\t 27.046                   & 35.421                   & 30.9                     & 3900737\\_279            & 2017-09-12T23:18:42.002Z & 279                      & -4.363                   & -150.066                \\\\\n",
       "\t 27.043                   & 35.421                   & 37.5                     & 3900737\\_279            & 2017-09-12T23:18:42.002Z & 279                      & -4.363                   & -150.066                \\\\\n",
       "\\end{tabular}\n"
      ],
      "text/markdown": [
       "\n",
       "temp | psal | pres | profile_id | date | cycle_number | lat | lon | \n",
       "|---|---|---|---|---|---|\n",
       "| 27.165                   | 35.421                   |  4.4                     | 3900737_279              | 2017-09-12T23:18:42.002Z | 279                      | -4.363                   | -150.066                 | \n",
       "| 27.063                   | 35.421                   | 10.0                     | 3900737_279              | 2017-09-12T23:18:42.002Z | 279                      | -4.363                   | -150.066                 | \n",
       "| 27.055                   | 35.422                   | 16.9                     | 3900737_279              | 2017-09-12T23:18:42.002Z | 279                      | -4.363                   | -150.066                 | \n",
       "| 27.048                   | 35.422                   | 23.7                     | 3900737_279              | 2017-09-12T23:18:42.002Z | 279                      | -4.363                   | -150.066                 | \n",
       "| 27.046                   | 35.421                   | 30.9                     | 3900737_279              | 2017-09-12T23:18:42.002Z | 279                      | -4.363                   | -150.066                 | \n",
       "| 27.043                   | 35.421                   | 37.5                     | 3900737_279              | 2017-09-12T23:18:42.002Z | 279                      | -4.363                   | -150.066                 | \n",
       "\n",
       "\n"
      ],
      "text/plain": [
       "  temp   psal   pres profile_id  date                     cycle_number lat   \n",
       "1 27.165 35.421  4.4 3900737_279 2017-09-12T23:18:42.002Z 279          -4.363\n",
       "2 27.063 35.421 10.0 3900737_279 2017-09-12T23:18:42.002Z 279          -4.363\n",
       "3 27.055 35.422 16.9 3900737_279 2017-09-12T23:18:42.002Z 279          -4.363\n",
       "4 27.048 35.422 23.7 3900737_279 2017-09-12T23:18:42.002Z 279          -4.363\n",
       "5 27.046 35.421 30.9 3900737_279 2017-09-12T23:18:42.002Z 279          -4.363\n",
       "6 27.043 35.421 37.5 3900737_279 2017-09-12T23:18:42.002Z 279          -4.363\n",
       "  lon     \n",
       "1 -150.066\n",
       "2 -150.066\n",
       "3 -150.066\n",
       "4 -150.066\n",
       "5 -150.066\n",
       "6 -150.066"
      ]
     },
     "metadata": {},
     "output_type": "display_data"
    }
   ],
   "source": [
    "head(df)"
   ]
  },
  {
   "cell_type": "markdown",
   "metadata": {},
   "source": [
    "<a name=\"section_two\"/> </a>\n",
    "# 2. Get A Platform"
   ]
  },
  {
   "cell_type": "code",
   "execution_count": 5,
   "metadata": {},
   "outputs": [],
   "source": [
    "get.platform <- function(platformNumber){\n",
    "  baseURL <- \"https://argovis.colorado.edu/catalog/platforms/\"\n",
    "  url <- paste(baseURL, platformNumber, sep=\"\")\n",
    "  resp <- GET(url)\n",
    "  if(resp$status_code==200) {\n",
    "    profiles <- content(resp, \"parsed\")\n",
    "  }\n",
    "  else {\n",
    "    profiles = content(resp, \"raw\")\n",
    "  }\n",
    "  return(profiles)\n",
    "}\n",
    "platformNumber <- '3900737'\n",
    "platformProfiles <- get.platform(platformNumber)\n",
    "\n",
    "platformDf <- data.frame()\n",
    "for (profile in platformProfiles)\n",
    "{\n",
    "    df <- parse.into.df(profile)\n",
    "    platformDf <- rbind(platformDf, df)\n",
    "}"
   ]
  },
  {
   "cell_type": "code",
   "execution_count": 6,
   "metadata": {},
   "outputs": [
    {
     "data": {
      "text/html": [
       "<table>\n",
       "<thead><tr><th></th><th scope=col>temp</th><th scope=col>psal</th><th scope=col>pres</th><th scope=col>profile_id</th><th scope=col>date</th><th scope=col>cycle_number</th><th scope=col>lat</th><th scope=col>lon</th></tr></thead>\n",
       "<tbody>\n",
       "\t<tr><th scope=row>25028</th><td>2.928                   </td><td>34.603                  </td><td>1556.5                  </td><td>3900737_355             </td><td>2019-12-15T10:31:17.001Z</td><td>355                     </td><td>-6.51                   </td><td>-168.018                </td></tr>\n",
       "\t<tr><th scope=row>25029</th><td>2.817                   </td><td>34.610                  </td><td>1635.6                  </td><td>3900737_355             </td><td>2019-12-15T10:31:17.001Z</td><td>355                     </td><td>-6.51                   </td><td>-168.018                </td></tr>\n",
       "\t<tr><th scope=row>25030</th><td>2.689                   </td><td>34.617                  </td><td>1719.8                  </td><td>3900737_355             </td><td>2019-12-15T10:31:17.001Z</td><td>355                     </td><td>-6.51                   </td><td>-168.018                </td></tr>\n",
       "\t<tr><th scope=row>25031</th><td>2.536                   </td><td>34.625                  </td><td>1808.8                  </td><td>3900737_355             </td><td>2019-12-15T10:31:17.001Z</td><td>355                     </td><td>-6.51                   </td><td>-168.018                </td></tr>\n",
       "\t<tr><th scope=row>25032</th><td>2.383                   </td><td>34.634                  </td><td>1900.5                  </td><td>3900737_355             </td><td>2019-12-15T10:31:17.001Z</td><td>355                     </td><td>-6.51                   </td><td>-168.018                </td></tr>\n",
       "\t<tr><th scope=row>25033</th><td>2.266                   </td><td>34.641                  </td><td>1995.7                  </td><td>3900737_355             </td><td>2019-12-15T10:31:17.001Z</td><td>355                     </td><td>-6.51                   </td><td>-168.018                </td></tr>\n",
       "</tbody>\n",
       "</table>\n"
      ],
      "text/latex": [
       "\\begin{tabular}{r|llllllll}\n",
       "  & temp & psal & pres & profile\\_id & date & cycle\\_number & lat & lon\\\\\n",
       "\\hline\n",
       "\t25028 & 2.928                    & 34.603                   & 1556.5                   & 3900737\\_355            & 2019-12-15T10:31:17.001Z & 355                      & -6.51                    & -168.018                \\\\\n",
       "\t25029 & 2.817                    & 34.610                   & 1635.6                   & 3900737\\_355            & 2019-12-15T10:31:17.001Z & 355                      & -6.51                    & -168.018                \\\\\n",
       "\t25030 & 2.689                    & 34.617                   & 1719.8                   & 3900737\\_355            & 2019-12-15T10:31:17.001Z & 355                      & -6.51                    & -168.018                \\\\\n",
       "\t25031 & 2.536                    & 34.625                   & 1808.8                   & 3900737\\_355            & 2019-12-15T10:31:17.001Z & 355                      & -6.51                    & -168.018                \\\\\n",
       "\t25032 & 2.383                    & 34.634                   & 1900.5                   & 3900737\\_355            & 2019-12-15T10:31:17.001Z & 355                      & -6.51                    & -168.018                \\\\\n",
       "\t25033 & 2.266                    & 34.641                   & 1995.7                   & 3900737\\_355            & 2019-12-15T10:31:17.001Z & 355                      & -6.51                    & -168.018                \\\\\n",
       "\\end{tabular}\n"
      ],
      "text/markdown": [
       "\n",
       "| <!--/--> | temp | psal | pres | profile_id | date | cycle_number | lat | lon | \n",
       "|---|---|---|---|---|---|\n",
       "| 25028 | 2.928                    | 34.603                   | 1556.5                   | 3900737_355              | 2019-12-15T10:31:17.001Z | 355                      | -6.51                    | -168.018                 | \n",
       "| 25029 | 2.817                    | 34.610                   | 1635.6                   | 3900737_355              | 2019-12-15T10:31:17.001Z | 355                      | -6.51                    | -168.018                 | \n",
       "| 25030 | 2.689                    | 34.617                   | 1719.8                   | 3900737_355              | 2019-12-15T10:31:17.001Z | 355                      | -6.51                    | -168.018                 | \n",
       "| 25031 | 2.536                    | 34.625                   | 1808.8                   | 3900737_355              | 2019-12-15T10:31:17.001Z | 355                      | -6.51                    | -168.018                 | \n",
       "| 25032 | 2.383                    | 34.634                   | 1900.5                   | 3900737_355              | 2019-12-15T10:31:17.001Z | 355                      | -6.51                    | -168.018                 | \n",
       "| 25033 | 2.266                    | 34.641                   | 1995.7                   | 3900737_355              | 2019-12-15T10:31:17.001Z | 355                      | -6.51                    | -168.018                 | \n",
       "\n",
       "\n"
      ],
      "text/plain": [
       "      temp  psal   pres   profile_id  date                     cycle_number\n",
       "25028 2.928 34.603 1556.5 3900737_355 2019-12-15T10:31:17.001Z 355         \n",
       "25029 2.817 34.610 1635.6 3900737_355 2019-12-15T10:31:17.001Z 355         \n",
       "25030 2.689 34.617 1719.8 3900737_355 2019-12-15T10:31:17.001Z 355         \n",
       "25031 2.536 34.625 1808.8 3900737_355 2019-12-15T10:31:17.001Z 355         \n",
       "25032 2.383 34.634 1900.5 3900737_355 2019-12-15T10:31:17.001Z 355         \n",
       "25033 2.266 34.641 1995.7 3900737_355 2019-12-15T10:31:17.001Z 355         \n",
       "      lat   lon     \n",
       "25028 -6.51 -168.018\n",
       "25029 -6.51 -168.018\n",
       "25030 -6.51 -168.018\n",
       "25031 -6.51 -168.018\n",
       "25032 -6.51 -168.018\n",
       "25033 -6.51 -168.018"
      ]
     },
     "metadata": {},
     "output_type": "display_data"
    }
   ],
   "source": [
    "tail(platformDf)"
   ]
  },
  {
   "cell_type": "markdown",
   "metadata": {},
   "source": [
    "<a name=\"section_three\"/> </a>\n",
    "# 3. Get A Selection\n",
    "\n",
    "Selections require a start date, end date, and nested array of longitude, latitudes. "
   ]
  },
  {
   "cell_type": "code",
   "execution_count": 7,
   "metadata": {},
   "outputs": [],
   "source": [
    "get.selection <- function(startDate, endDate, shape, presRange){\n",
    "    baseURL <- \"https://argovis.colorado.edu/selection/profiles/\"\n",
    "    startDateQuery <- paste('?startDate=', startDate, sep=\"\")\n",
    "    endDateQuery <- paste('&endDate=', endDate, sep=\"\")\n",
    "    shapeQuery <- paste('&shape=', shape, sep=\"\")\n",
    "    \n",
    "  if(missing(presRange)) {\n",
    "      url <- paste(baseURL, startDateQuery, endDateQuery, shapeQuery, sep=\"\")\n",
    "  }\n",
    "  else {\n",
    "      presRangeQuery = paste('&presRange=', presRange, sep=\"\")\n",
    "      url <- paste(baseURL, startDateQuery, endDateQuery, presRangeQuery, shapeQuery, sep=\"\")   \n",
    "  }\n",
    "  resp <- GET(url)\n",
    "  if(resp$status_code==200) {\n",
    "    profiles <- content(resp, \"parsed\")\n",
    "  }\n",
    "  else {\n",
    "    profiles <- content(resp, \"raw\")\n",
    "  }\n",
    "  return(profiles)\n",
    "}"
   ]
  },
  {
   "cell_type": "code",
   "execution_count": 8,
   "metadata": {},
   "outputs": [],
   "source": [
    "startDate='2017-9-15'\n",
    "endDate='2017-10-31'\n",
    "shape = '[[[-18.6,31.7],[-18.6,37.7],[-5.9,37.7],[-5.9,31.7],[-18.6,31.7]]]'\n",
    "presRange='[0,30]'\n",
    "\n",
    "selectionProfiles = get.selection(startDate, endDate, shape, presRange)"
   ]
  },
  {
   "cell_type": "code",
   "execution_count": 9,
   "metadata": {},
   "outputs": [],
   "source": [
    "selectionDf <- data.frame()\n",
    "for (profile in selectionProfiles)\n",
    "{\n",
    "    df <- parse.into.df(profile)\n",
    "    selectionDf <- rbind(selectionDf, df)\n",
    "}"
   ]
  },
  {
   "cell_type": "code",
   "execution_count": 10,
   "metadata": {},
   "outputs": [
    {
     "data": {
      "text/html": [
       "<table>\n",
       "<thead><tr><th scope=col>temp</th><th scope=col>pres</th><th scope=col>psal</th><th scope=col>profile_id</th><th scope=col>date</th><th scope=col>cycle_number</th><th scope=col>lat</th><th scope=col>lon</th></tr></thead>\n",
       "<tbody>\n",
       "\t<tr><td>23.054                  </td><td> 6                      </td><td>36.948                  </td><td>6902664_81              </td><td>2017-10-29T19:44:00.000Z</td><td>81                      </td><td>32.535                  </td><td>-16.905                 </td></tr>\n",
       "\t<tr><td>23.052                  </td><td> 7                      </td><td>36.948                  </td><td>6902664_81              </td><td>2017-10-29T19:44:00.000Z</td><td>81                      </td><td>32.535                  </td><td>-16.905                 </td></tr>\n",
       "\t<tr><td>23.045                  </td><td> 8                      </td><td>36.948                  </td><td>6902664_81              </td><td>2017-10-29T19:44:00.000Z</td><td>81                      </td><td>32.535                  </td><td>-16.905                 </td></tr>\n",
       "\t<tr><td>23.039                  </td><td> 9                      </td><td>36.948                  </td><td>6902664_81              </td><td>2017-10-29T19:44:00.000Z</td><td>81                      </td><td>32.535                  </td><td>-16.905                 </td></tr>\n",
       "\t<tr><td>23.036                  </td><td>10                      </td><td>36.948                  </td><td>6902664_81              </td><td>2017-10-29T19:44:00.000Z</td><td>81                      </td><td>32.535                  </td><td>-16.905                 </td></tr>\n",
       "\t<tr><td>23.033                  </td><td>11                      </td><td>36.948                  </td><td>6902664_81              </td><td>2017-10-29T19:44:00.000Z</td><td>81                      </td><td>32.535                  </td><td>-16.905                 </td></tr>\n",
       "</tbody>\n",
       "</table>\n"
      ],
      "text/latex": [
       "\\begin{tabular}{r|llllllll}\n",
       " temp & pres & psal & profile\\_id & date & cycle\\_number & lat & lon\\\\\n",
       "\\hline\n",
       "\t 23.054                   &  6                       & 36.948                   & 6902664\\_81             & 2017-10-29T19:44:00.000Z & 81                       & 32.535                   & -16.905                 \\\\\n",
       "\t 23.052                   &  7                       & 36.948                   & 6902664\\_81             & 2017-10-29T19:44:00.000Z & 81                       & 32.535                   & -16.905                 \\\\\n",
       "\t 23.045                   &  8                       & 36.948                   & 6902664\\_81             & 2017-10-29T19:44:00.000Z & 81                       & 32.535                   & -16.905                 \\\\\n",
       "\t 23.039                   &  9                       & 36.948                   & 6902664\\_81             & 2017-10-29T19:44:00.000Z & 81                       & 32.535                   & -16.905                 \\\\\n",
       "\t 23.036                   & 10                       & 36.948                   & 6902664\\_81             & 2017-10-29T19:44:00.000Z & 81                       & 32.535                   & -16.905                 \\\\\n",
       "\t 23.033                   & 11                       & 36.948                   & 6902664\\_81             & 2017-10-29T19:44:00.000Z & 81                       & 32.535                   & -16.905                 \\\\\n",
       "\\end{tabular}\n"
      ],
      "text/markdown": [
       "\n",
       "temp | pres | psal | profile_id | date | cycle_number | lat | lon | \n",
       "|---|---|---|---|---|---|\n",
       "| 23.054                   |  6                       | 36.948                   | 6902664_81               | 2017-10-29T19:44:00.000Z | 81                       | 32.535                   | -16.905                  | \n",
       "| 23.052                   |  7                       | 36.948                   | 6902664_81               | 2017-10-29T19:44:00.000Z | 81                       | 32.535                   | -16.905                  | \n",
       "| 23.045                   |  8                       | 36.948                   | 6902664_81               | 2017-10-29T19:44:00.000Z | 81                       | 32.535                   | -16.905                  | \n",
       "| 23.039                   |  9                       | 36.948                   | 6902664_81               | 2017-10-29T19:44:00.000Z | 81                       | 32.535                   | -16.905                  | \n",
       "| 23.036                   | 10                       | 36.948                   | 6902664_81               | 2017-10-29T19:44:00.000Z | 81                       | 32.535                   | -16.905                  | \n",
       "| 23.033                   | 11                       | 36.948                   | 6902664_81               | 2017-10-29T19:44:00.000Z | 81                       | 32.535                   | -16.905                  | \n",
       "\n",
       "\n"
      ],
      "text/plain": [
       "  temp   pres psal   profile_id date                     cycle_number lat   \n",
       "1 23.054  6   36.948 6902664_81 2017-10-29T19:44:00.000Z 81           32.535\n",
       "2 23.052  7   36.948 6902664_81 2017-10-29T19:44:00.000Z 81           32.535\n",
       "3 23.045  8   36.948 6902664_81 2017-10-29T19:44:00.000Z 81           32.535\n",
       "4 23.039  9   36.948 6902664_81 2017-10-29T19:44:00.000Z 81           32.535\n",
       "5 23.036 10   36.948 6902664_81 2017-10-29T19:44:00.000Z 81           32.535\n",
       "6 23.033 11   36.948 6902664_81 2017-10-29T19:44:00.000Z 81           32.535\n",
       "  lon    \n",
       "1 -16.905\n",
       "2 -16.905\n",
       "3 -16.905\n",
       "4 -16.905\n",
       "5 -16.905\n",
       "6 -16.905"
      ]
     },
     "metadata": {},
     "output_type": "display_data"
    }
   ],
   "source": [
    "head(selectionDf)"
   ]
  },
  {
   "cell_type": "markdown",
   "metadata": {},
   "source": [
    "<a name=\"section_four\"/> </a>\n",
    "# 4. Get Metadata for a given month, year\n",
    "\n",
    "Metadata queries require a month and year."
   ]
  },
  {
   "cell_type": "code",
   "execution_count": 21,
   "metadata": {},
   "outputs": [],
   "source": [
    "get.monthly.profile.pos <- function(month, year){\n",
    "    baseURL <- 'https://argovis.colorado.edu/selection/profiles'\n",
    "    url <- paste(baseURL, '/', toString(month), '/', toString(year), sep=\"\")\n",
    "    resp <- GET(url)\n",
    "    if(resp$status_code==200) {\n",
    "    profiles <- content(resp, \"parsed\")\n",
    "    }\n",
    "    else {\n",
    "    profiles <- content(resp, \"raw\")\n",
    "    }\n",
    "    return(profiles)\n",
    "}\n",
    "\n",
    "parse.meta.into.df <- function(metaDataProfs){\n",
    "    names = unique(names(unlist(metaDataProfs)))\n",
    "    # remove unwrapped station_parameters*\n",
    "    dfNames = c()\n",
    "    for (name in names) {\n",
    "      if (grepl('station_parameters', name) != 1) {\n",
    "        dfNames = c(dfNames, name)\n",
    "      }\n",
    "    }\n",
    "    dfNames <- c(dfNames, 'station_parameters')\n",
    "    \n",
    "    metaDf <- data.frame(matrix(ncol = length(dfNames), nrow = 0))\n",
    "    colnames(metaDf) <- dfNames\n",
    "    for (row in metaDataProfs) {\n",
    "      dfRow <- data.frame()\n",
    "      newRow <- list()\n",
    "      rowNames <- names(row)\n",
    "      for (key in dfNames) {\n",
    "        if (is.na(match(key, rowNames))) {\n",
    "          newRow[key] <- -999\n",
    "        }\n",
    "        else{\n",
    "          newRow[key] <- row[key]\n",
    "        }\n",
    "      }\n",
    "      metaDf[nrow(metaDf)+1, ] <- newRow\n",
    "    }\n",
    "    return(metaDf)\n",
    "    }"
   ]
  },
  {
   "cell_type": "code",
   "execution_count": 22,
   "metadata": {},
   "outputs": [],
   "source": [
    "# SLOW...I still need to find a better to merge lists into a data.frame\n",
    "metaDataProfs = get.monthly.profile.pos(1, 2018)\n",
    "metaDf <- parse.meta.into.df(metaDataProfs[0:50])"
   ]
  },
  {
   "cell_type": "code",
   "execution_count": 23,
   "metadata": {},
   "outputs": [
    {
     "data": {
      "text/html": [
       "<table>\n",
       "<thead><tr><th scope=col>_id</th><th scope=col>POSITIONING_SYSTEM</th><th scope=col>PI_NAME</th><th scope=col>VERTICAL_SAMPLING_SCHEME</th><th scope=col>DATA_MODE</th><th scope=col>PLATFORM_TYPE</th><th scope=col>date</th><th scope=col>date_added</th><th scope=col>date_qc</th><th scope=col>lat</th><th scope=col>⋯</th><th scope=col>dac</th><th scope=col>platform_number</th><th scope=col>BASIN</th><th scope=col>containsBGC</th><th scope=col>isDeep</th><th scope=col>pres_max_for_TEMP</th><th scope=col>pres_min_for_TEMP</th><th scope=col>pres_max_for_PSAL</th><th scope=col>pres_min_for_PSAL</th><th scope=col>station_parameters</th></tr></thead>\n",
       "<tbody>\n",
       "\t<tr><td>6901909_96                                                                                                                                                                                                     </td><td>ARGOS                                                                                                                                                                                                          </td><td>Anja SCHNEEHORST                                                                                                                                                                                               </td><td>Primary sampling: discrete []                                                                                                                                                                                  </td><td>D                                                                                                                                                                                                              </td><td>APEX                                                                                                                                                                                                           </td><td>2018-01-31T23:57:47.000Z                                                                                                                                                                                       </td><td>2019-10-24T07:03:02.037Z                                                                                                                                                                                       </td><td>1                                                                                                                                                                                                              </td><td> 68.33600                                                                                                                                                                                                      </td><td>⋯                                                                                                                                                                                                              </td><td>coriolis                                                                                                                                                                                                       </td><td>6901909                                                                                                                                                                                                        </td><td> 2                                                                                                                                                                                                             </td><td>FALSE                                                                                                                                                                                                          </td><td>FALSE                                                                                                                                                                                                          </td><td>1298.60                                                                                                                                                                                                        </td><td>5.20                                                                                                                                                                                                           </td><td>1298.60                                                                                                                                                                                                        </td><td>   5.20                                                                                                                                                                                                        </td><td>temp                                                                                                                                                                                                           </td></tr>\n",
       "\t<tr><td>6901826_387                                                                                                                                                                                                    </td><td>GPS                                                                                                                                                                                                            </td><td>Pierre-Marie POULAIN                                                                                                                                                                                           </td><td>Primary sampling: averaged [10 sec sampling, 25 dbar average from 700 dbar to 700 dbar; 10 sec sampling, 10 dbar average from 700 dbar to 100 dbar; 10 sec sampling, 2 dbar average from 100 dbar to 5.4 dbar] </td><td>R                                                                                                                                                                                                              </td><td>ARVOR                                                                                                                                                                                                          </td><td>2018-01-31T23:55:59.999Z                                                                                                                                                                                       </td><td>2019-10-24T06:33:03.688Z                                                                                                                                                                                       </td><td>1                                                                                                                                                                                                              </td><td> 36.99538                                                                                                                                                                                                      </td><td>⋯                                                                                                                                                                                                              </td><td>coriolis                                                                                                                                                                                                       </td><td>6901826                                                                                                                                                                                                        </td><td> 4                                                                                                                                                                                                             </td><td>FALSE                                                                                                                                                                                                          </td><td>FALSE                                                                                                                                                                                                          </td><td> 630.60                                                                                                                                                                                                        </td><td>6.30                                                                                                                                                                                                           </td><td> 630.60                                                                                                                                                                                                        </td><td>   6.30                                                                                                                                                                                                        </td><td>temp                                                                                                                                                                                                           </td></tr>\n",
       "\t<tr><td>1901665_196                                                                                                                                                                                                    </td><td>GPS                                                                                                                                                                                                            </td><td>BRECK OWENS                                                                                                                                                                                                    </td><td>Primary sampling: averaged [nominal 2 dbar binned data sampled at 0.5 Hz from a SBE41CP]                                                                                                                       </td><td>R                                                                                                                                                                                                              </td><td>S2A                                                                                                                                                                                                            </td><td>2018-01-31T23:52:32.002Z                                                                                                                                                                                       </td><td>2019-10-24T16:24:51.021Z                                                                                                                                                                                       </td><td>1                                                                                                                                                                                                              </td><td>-27.68992                                                                                                                                                                                                      </td><td>⋯                                                                                                                                                                                                              </td><td>aoml                                                                                                                                                                                                           </td><td>1901665                                                                                                                                                                                                        </td><td> 1                                                                                                                                                                                                             </td><td>FALSE                                                                                                                                                                                                          </td><td>FALSE                                                                                                                                                                                                          </td><td>1005.08                                                                                                                                                                                                        </td><td>1.16                                                                                                                                                                                                           </td><td>1005.08                                                                                                                                                                                                        </td><td>   1.16                                                                                                                                                                                                        </td><td>pres                                                                                                                                                                                                           </td></tr>\n",
       "\t<tr><td>6901838_113                                                                                                                                                                                                    </td><td>GPS                                                                                                                                                                                                            </td><td>Pierre-Marie POULAIN                                                                                                                                                                                           </td><td>Primary sampling: averaged [10 sec sampling, 50 dbar average from 2000 dbar to 700 dbar; 10 sec sampling, 10 dbar average from 700 dbar to 100 dbar; 10 sec sampling, 5 dbar average from 100 dbar to 5.6 dbar]</td><td>R                                                                                                                                                                                                              </td><td>ARVOR                                                                                                                                                                                                          </td><td>2018-01-31T23:47:59.999Z                                                                                                                                                                                       </td><td>2019-10-24T06:40:02.519Z                                                                                                                                                                                       </td><td>1                                                                                                                                                                                                              </td><td>-56.07378                                                                                                                                                                                                      </td><td>⋯                                                                                                                                                                                                              </td><td>coriolis                                                                                                                                                                                                       </td><td>6901838                                                                                                                                                                                                        </td><td>10                                                                                                                                                                                                             </td><td>FALSE                                                                                                                                                                                                          </td><td>FALSE                                                                                                                                                                                                          </td><td>1975.00                                                                                                                                                                                                        </td><td>7.90                                                                                                                                                                                                           </td><td>-999.00                                                                                                                                                                                                        </td><td>-999.00                                                                                                                                                                                                        </td><td>temp                                                                                                                                                                                                           </td></tr>\n",
       "\t<tr><td>2902600_124                                                                                                                                                                                                    </td><td>ARGOS                                                                                                                                                                                                          </td><td>ZENGHONG LIU                                                                                                                                                                                                   </td><td>Primary sampling: averaged []                                                                                                                                                                                  </td><td>A                                                                                                                                                                                                              </td><td>PROVOR                                                                                                                                                                                                         </td><td>2018-01-31T23:46:38.999Z                                                                                                                                                                                       </td><td>2019-10-25T17:17:14.375Z                                                                                                                                                                                       </td><td>1                                                                                                                                                                                                              </td><td>-29.64900                                                                                                                                                                                                      </td><td>⋯                                                                                                                                                                                                              </td><td>csio                                                                                                                                                                                                           </td><td>2902600                                                                                                                                                                                                        </td><td> 3                                                                                                                                                                                                             </td><td>FALSE                                                                                                                                                                                                          </td><td>FALSE                                                                                                                                                                                                          </td><td>1983.00                                                                                                                                                                                                        </td><td>1.00                                                                                                                                                                                                           </td><td>1983.00                                                                                                                                                                                                        </td><td>   1.00                                                                                                                                                                                                        </td><td>temp                                                                                                                                                                                                           </td></tr>\n",
       "</tbody>\n",
       "</table>\n"
      ],
      "text/latex": [
       "\\begin{tabular}{r|lllllllllllllllllllllll}\n",
       " \\_id & POSITIONING\\_SYSTEM & PI\\_NAME & VERTICAL\\_SAMPLING\\_SCHEME & DATA\\_MODE & PLATFORM\\_TYPE & date & date\\_added & date\\_qc & lat & ⋯ & dac & platform\\_number & BASIN & containsBGC & isDeep & pres\\_max\\_for\\_TEMP & pres\\_min\\_for\\_TEMP & pres\\_max\\_for\\_PSAL & pres\\_min\\_for\\_PSAL & station\\_parameters\\\\\n",
       "\\hline\n",
       "\t 6901909\\_96                                                                                                                                                                                                        & ARGOS                                                                                                                                                                                                               & Anja SCHNEEHORST                                                                                                                                                                                                    & Primary sampling: discrete {[}{]}                                                                                                                                                                                   & D                                                                                                                                                                                                                   & APEX                                                                                                                                                                                                                & 2018-01-31T23:57:47.000Z                                                                                                                                                                                            & 2019-10-24T07:03:02.037Z                                                                                                                                                                                            & 1                                                                                                                                                                                                                   &  68.33600                                                                                                                                                                                                           & ⋯                                                                                                                                                                                                                   & coriolis                                                                                                                                                                                                            & 6901909                                                                                                                                                                                                             &  2                                                                                                                                                                                                                  & FALSE                                                                                                                                                                                                               & FALSE                                                                                                                                                                                                               & 1298.60                                                                                                                                                                                                             & 5.20                                                                                                                                                                                                                & 1298.60                                                                                                                                                                                                             &    5.20                                                                                                                                                                                                             & temp                                                                                                                                                                                                               \\\\\n",
       "\t 6901826\\_387                                                                                                                                                                                                       & GPS                                                                                                                                                                                                                 & Pierre-Marie POULAIN                                                                                                                                                                                                & Primary sampling: averaged {[}10 sec sampling, 25 dbar average from 700 dbar to 700 dbar; 10 sec sampling, 10 dbar average from 700 dbar to 100 dbar; 10 sec sampling, 2 dbar average from 100 dbar to 5.4 dbar{]}  & R                                                                                                                                                                                                                   & ARVOR                                                                                                                                                                                                               & 2018-01-31T23:55:59.999Z                                                                                                                                                                                            & 2019-10-24T06:33:03.688Z                                                                                                                                                                                            & 1                                                                                                                                                                                                                   &  36.99538                                                                                                                                                                                                           & ⋯                                                                                                                                                                                                                   & coriolis                                                                                                                                                                                                            & 6901826                                                                                                                                                                                                             &  4                                                                                                                                                                                                                  & FALSE                                                                                                                                                                                                               & FALSE                                                                                                                                                                                                               &  630.60                                                                                                                                                                                                             & 6.30                                                                                                                                                                                                                &  630.60                                                                                                                                                                                                             &    6.30                                                                                                                                                                                                             & temp                                                                                                                                                                                                               \\\\\n",
       "\t 1901665\\_196                                                                                                                                                                                                       & GPS                                                                                                                                                                                                                 & BRECK OWENS                                                                                                                                                                                                         & Primary sampling: averaged {[}nominal 2 dbar binned data sampled at 0.5 Hz from a SBE41CP{]}                                                                                                                        & R                                                                                                                                                                                                                   & S2A                                                                                                                                                                                                                 & 2018-01-31T23:52:32.002Z                                                                                                                                                                                            & 2019-10-24T16:24:51.021Z                                                                                                                                                                                            & 1                                                                                                                                                                                                                   & -27.68992                                                                                                                                                                                                           & ⋯                                                                                                                                                                                                                   & aoml                                                                                                                                                                                                                & 1901665                                                                                                                                                                                                             &  1                                                                                                                                                                                                                  & FALSE                                                                                                                                                                                                               & FALSE                                                                                                                                                                                                               & 1005.08                                                                                                                                                                                                             & 1.16                                                                                                                                                                                                                & 1005.08                                                                                                                                                                                                             &    1.16                                                                                                                                                                                                             & pres                                                                                                                                                                                                               \\\\\n",
       "\t 6901838\\_113                                                                                                                                                                                                       & GPS                                                                                                                                                                                                                 & Pierre-Marie POULAIN                                                                                                                                                                                                & Primary sampling: averaged {[}10 sec sampling, 50 dbar average from 2000 dbar to 700 dbar; 10 sec sampling, 10 dbar average from 700 dbar to 100 dbar; 10 sec sampling, 5 dbar average from 100 dbar to 5.6 dbar{]} & R                                                                                                                                                                                                                   & ARVOR                                                                                                                                                                                                               & 2018-01-31T23:47:59.999Z                                                                                                                                                                                            & 2019-10-24T06:40:02.519Z                                                                                                                                                                                            & 1                                                                                                                                                                                                                   & -56.07378                                                                                                                                                                                                           & ⋯                                                                                                                                                                                                                   & coriolis                                                                                                                                                                                                            & 6901838                                                                                                                                                                                                             & 10                                                                                                                                                                                                                  & FALSE                                                                                                                                                                                                               & FALSE                                                                                                                                                                                                               & 1975.00                                                                                                                                                                                                             & 7.90                                                                                                                                                                                                                & -999.00                                                                                                                                                                                                             & -999.00                                                                                                                                                                                                             & temp                                                                                                                                                                                                               \\\\\n",
       "\t 2902600\\_124                                                                                                                                                                                                       & ARGOS                                                                                                                                                                                                               & ZENGHONG LIU                                                                                                                                                                                                        & Primary sampling: averaged {[}{]}                                                                                                                                                                                   & A                                                                                                                                                                                                                   & PROVOR                                                                                                                                                                                                              & 2018-01-31T23:46:38.999Z                                                                                                                                                                                            & 2019-10-25T17:17:14.375Z                                                                                                                                                                                            & 1                                                                                                                                                                                                                   & -29.64900                                                                                                                                                                                                           & ⋯                                                                                                                                                                                                                   & csio                                                                                                                                                                                                                & 2902600                                                                                                                                                                                                             &  3                                                                                                                                                                                                                  & FALSE                                                                                                                                                                                                               & FALSE                                                                                                                                                                                                               & 1983.00                                                                                                                                                                                                             & 1.00                                                                                                                                                                                                                & 1983.00                                                                                                                                                                                                             &    1.00                                                                                                                                                                                                             & temp                                                                                                                                                                                                               \\\\\n",
       "\\end{tabular}\n"
      ],
      "text/markdown": [
       "\n",
       "_id | POSITIONING_SYSTEM | PI_NAME | VERTICAL_SAMPLING_SCHEME | DATA_MODE | PLATFORM_TYPE | date | date_added | date_qc | lat | ⋯ | dac | platform_number | BASIN | containsBGC | isDeep | pres_max_for_TEMP | pres_min_for_TEMP | pres_max_for_PSAL | pres_min_for_PSAL | station_parameters | \n",
       "|---|---|---|---|---|\n",
       "| 6901909_96                                                                                                                                                                                                      | ARGOS                                                                                                                                                                                                           | Anja SCHNEEHORST                                                                                                                                                                                                | Primary sampling: discrete []                                                                                                                                                                                   | D                                                                                                                                                                                                               | APEX                                                                                                                                                                                                            | 2018-01-31T23:57:47.000Z                                                                                                                                                                                        | 2019-10-24T07:03:02.037Z                                                                                                                                                                                        | 1                                                                                                                                                                                                               |  68.33600                                                                                                                                                                                                       | ⋯                                                                                                                                                                                                               | coriolis                                                                                                                                                                                                        | 6901909                                                                                                                                                                                                         |  2                                                                                                                                                                                                              | FALSE                                                                                                                                                                                                           | FALSE                                                                                                                                                                                                           | 1298.60                                                                                                                                                                                                         | 5.20                                                                                                                                                                                                            | 1298.60                                                                                                                                                                                                         |    5.20                                                                                                                                                                                                         | temp                                                                                                                                                                                                            | \n",
       "| 6901826_387                                                                                                                                                                                                     | GPS                                                                                                                                                                                                             | Pierre-Marie POULAIN                                                                                                                                                                                            | Primary sampling: averaged [10 sec sampling, 25 dbar average from 700 dbar to 700 dbar; 10 sec sampling, 10 dbar average from 700 dbar to 100 dbar; 10 sec sampling, 2 dbar average from 100 dbar to 5.4 dbar]  | R                                                                                                                                                                                                               | ARVOR                                                                                                                                                                                                           | 2018-01-31T23:55:59.999Z                                                                                                                                                                                        | 2019-10-24T06:33:03.688Z                                                                                                                                                                                        | 1                                                                                                                                                                                                               |  36.99538                                                                                                                                                                                                       | ⋯                                                                                                                                                                                                               | coriolis                                                                                                                                                                                                        | 6901826                                                                                                                                                                                                         |  4                                                                                                                                                                                                              | FALSE                                                                                                                                                                                                           | FALSE                                                                                                                                                                                                           |  630.60                                                                                                                                                                                                         | 6.30                                                                                                                                                                                                            |  630.60                                                                                                                                                                                                         |    6.30                                                                                                                                                                                                         | temp                                                                                                                                                                                                            | \n",
       "| 1901665_196                                                                                                                                                                                                     | GPS                                                                                                                                                                                                             | BRECK OWENS                                                                                                                                                                                                     | Primary sampling: averaged [nominal 2 dbar binned data sampled at 0.5 Hz from a SBE41CP]                                                                                                                        | R                                                                                                                                                                                                               | S2A                                                                                                                                                                                                             | 2018-01-31T23:52:32.002Z                                                                                                                                                                                        | 2019-10-24T16:24:51.021Z                                                                                                                                                                                        | 1                                                                                                                                                                                                               | -27.68992                                                                                                                                                                                                       | ⋯                                                                                                                                                                                                               | aoml                                                                                                                                                                                                            | 1901665                                                                                                                                                                                                         |  1                                                                                                                                                                                                              | FALSE                                                                                                                                                                                                           | FALSE                                                                                                                                                                                                           | 1005.08                                                                                                                                                                                                         | 1.16                                                                                                                                                                                                            | 1005.08                                                                                                                                                                                                         |    1.16                                                                                                                                                                                                         | pres                                                                                                                                                                                                            | \n",
       "| 6901838_113                                                                                                                                                                                                     | GPS                                                                                                                                                                                                             | Pierre-Marie POULAIN                                                                                                                                                                                            | Primary sampling: averaged [10 sec sampling, 50 dbar average from 2000 dbar to 700 dbar; 10 sec sampling, 10 dbar average from 700 dbar to 100 dbar; 10 sec sampling, 5 dbar average from 100 dbar to 5.6 dbar] | R                                                                                                                                                                                                               | ARVOR                                                                                                                                                                                                           | 2018-01-31T23:47:59.999Z                                                                                                                                                                                        | 2019-10-24T06:40:02.519Z                                                                                                                                                                                        | 1                                                                                                                                                                                                               | -56.07378                                                                                                                                                                                                       | ⋯                                                                                                                                                                                                               | coriolis                                                                                                                                                                                                        | 6901838                                                                                                                                                                                                         | 10                                                                                                                                                                                                              | FALSE                                                                                                                                                                                                           | FALSE                                                                                                                                                                                                           | 1975.00                                                                                                                                                                                                         | 7.90                                                                                                                                                                                                            | -999.00                                                                                                                                                                                                         | -999.00                                                                                                                                                                                                         | temp                                                                                                                                                                                                            | \n",
       "| 2902600_124                                                                                                                                                                                                     | ARGOS                                                                                                                                                                                                           | ZENGHONG LIU                                                                                                                                                                                                    | Primary sampling: averaged []                                                                                                                                                                                   | A                                                                                                                                                                                                               | PROVOR                                                                                                                                                                                                          | 2018-01-31T23:46:38.999Z                                                                                                                                                                                        | 2019-10-25T17:17:14.375Z                                                                                                                                                                                        | 1                                                                                                                                                                                                               | -29.64900                                                                                                                                                                                                       | ⋯                                                                                                                                                                                                               | csio                                                                                                                                                                                                            | 2902600                                                                                                                                                                                                         |  3                                                                                                                                                                                                              | FALSE                                                                                                                                                                                                           | FALSE                                                                                                                                                                                                           | 1983.00                                                                                                                                                                                                         | 1.00                                                                                                                                                                                                            | 1983.00                                                                                                                                                                                                         |    1.00                                                                                                                                                                                                         | temp                                                                                                                                                                                                            | \n",
       "\n",
       "\n"
      ],
      "text/plain": [
       "  _id         POSITIONING_SYSTEM PI_NAME             \n",
       "1 6901909_96  ARGOS              Anja SCHNEEHORST    \n",
       "2 6901826_387 GPS                Pierre-Marie POULAIN\n",
       "3 1901665_196 GPS                BRECK OWENS         \n",
       "4 6901838_113 GPS                Pierre-Marie POULAIN\n",
       "5 2902600_124 ARGOS              ZENGHONG LIU        \n",
       "  VERTICAL_SAMPLING_SCHEME                                                                                                                                                                                       \n",
       "1 Primary sampling: discrete []                                                                                                                                                                                  \n",
       "2 Primary sampling: averaged [10 sec sampling, 25 dbar average from 700 dbar to 700 dbar; 10 sec sampling, 10 dbar average from 700 dbar to 100 dbar; 10 sec sampling, 2 dbar average from 100 dbar to 5.4 dbar] \n",
       "3 Primary sampling: averaged [nominal 2 dbar binned data sampled at 0.5 Hz from a SBE41CP]                                                                                                                       \n",
       "4 Primary sampling: averaged [10 sec sampling, 50 dbar average from 2000 dbar to 700 dbar; 10 sec sampling, 10 dbar average from 700 dbar to 100 dbar; 10 sec sampling, 5 dbar average from 100 dbar to 5.6 dbar]\n",
       "5 Primary sampling: averaged []                                                                                                                                                                                  \n",
       "  DATA_MODE PLATFORM_TYPE date                     date_added              \n",
       "1 D         APEX          2018-01-31T23:57:47.000Z 2019-10-24T07:03:02.037Z\n",
       "2 R         ARVOR         2018-01-31T23:55:59.999Z 2019-10-24T06:33:03.688Z\n",
       "3 R         S2A           2018-01-31T23:52:32.002Z 2019-10-24T16:24:51.021Z\n",
       "4 R         ARVOR         2018-01-31T23:47:59.999Z 2019-10-24T06:40:02.519Z\n",
       "5 A         PROVOR        2018-01-31T23:46:38.999Z 2019-10-25T17:17:14.375Z\n",
       "  date_qc lat       ⋯ dac      platform_number BASIN containsBGC isDeep\n",
       "1 1        68.33600 ⋯ coriolis 6901909          2    FALSE       FALSE \n",
       "2 1        36.99538 ⋯ coriolis 6901826          4    FALSE       FALSE \n",
       "3 1       -27.68992 ⋯ aoml     1901665          1    FALSE       FALSE \n",
       "4 1       -56.07378 ⋯ coriolis 6901838         10    FALSE       FALSE \n",
       "5 1       -29.64900 ⋯ csio     2902600          3    FALSE       FALSE \n",
       "  pres_max_for_TEMP pres_min_for_TEMP pres_max_for_PSAL pres_min_for_PSAL\n",
       "1 1298.60           5.20              1298.60              5.20          \n",
       "2  630.60           6.30               630.60              6.30          \n",
       "3 1005.08           1.16              1005.08              1.16          \n",
       "4 1975.00           7.90              -999.00           -999.00          \n",
       "5 1983.00           1.00              1983.00              1.00          \n",
       "  station_parameters\n",
       "1 temp              \n",
       "2 temp              \n",
       "3 pres              \n",
       "4 temp              \n",
       "5 temp              "
      ]
     },
     "metadata": {},
     "output_type": "display_data"
    }
   ],
   "source": [
    "head(metaDf, 5)"
   ]
  },
  {
   "cell_type": "markdown",
   "metadata": {},
   "source": [
    "### Notes on formatting JSON into data.frame\n",
    "\n",
    "Full disclosure, my R skills could be improved. There are most likely more efficient ways to create these dataframes, particularly with the [meta query](#section_four). The issue lies when building the dataframe. Each JSON object may not have the same keys, which makes it difficult for R to handle."
   ]
  },
  {
   "cell_type": "markdown",
   "metadata": {},
   "source": [
    "# Conclusion\n",
    "\n",
    "This API is good for getting profiles, platforms, and selections into an R environment quickly. We did find some bottlenecks for converting metadata JSON into a data.frame. \n",
    "\n",
    "If you are working with larger data projects, I would recommend using the Python API. \n",
    "\n",
    "Thanks for reading. If you see anything you would like improved, feel free to email me at tyler.tucker@colorado.edu."
   ]
  },
  {
   "cell_type": "code",
   "execution_count": null,
   "metadata": {
    "collapsed": true
   },
   "outputs": [],
   "source": []
  }
 ],
 "metadata": {
  "kernelspec": {
   "display_name": "R",
   "language": "R",
   "name": "ir"
  },
  "language_info": {
   "codemirror_mode": "r",
   "file_extension": ".r",
   "mimetype": "text/x-r-source",
   "name": "R",
   "pygments_lexer": "r",
   "version": "3.4.3"
  }
 },
 "nbformat": 4,
 "nbformat_minor": 2
}
